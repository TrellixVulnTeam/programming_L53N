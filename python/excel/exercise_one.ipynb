{
 "metadata": {
  "language_info": {
   "codemirror_mode": {
    "name": "ipython",
    "version": 3
   },
   "file_extension": ".py",
   "mimetype": "text/x-python",
   "name": "python",
   "nbconvert_exporter": "python",
   "pygments_lexer": "ipython3",
   "version": "3.9.1-final"
  },
  "orig_nbformat": 2,
  "kernelspec": {
   "name": "python3",
   "display_name": "Python 3.9.1 64-bit ('venv')",
   "metadata": {
    "interpreter": {
     "hash": "e747c1200c808678b8c4d8910f0a9fd33f389be93902a34630c722297d583bfb"
    }
   }
  }
 },
 "nbformat": 4,
 "nbformat_minor": 2,
 "cells": [
  {
   "source": [
    "I \n",
    "\n",
    "\"One liners\" -- use comprehension!\n",
    "\n",
    "1"
   ],
   "cell_type": "markdown",
   "metadata": {}
  },
  {
   "cell_type": "code",
   "execution_count": 113,
   "metadata": {},
   "outputs": [
    {
     "output_type": "stream",
     "name": "stdout",
     "text": [
      "[1, 3, 7, 9, 11, 13, 17, 19, 21, 23, 27, 29, 31, 33, 37, 39, 41, 43, 47, 49, 51, 53, 57, 59, 61, 63, 67, 69, 71, 73, 77, 79, 81, 83, 87, 89, 91, 93, 97, 99]\n"
     ]
    }
   ],
   "source": [
    "my_list = [item for item in range(0, 100) if (item % 2) != 0 and (item % 5) != 0 ]\n",
    "print(my_list)"
   ]
  },
  {
   "source": [
    "2"
   ],
   "cell_type": "markdown",
   "metadata": {}
  },
  {
   "cell_type": "code",
   "execution_count": 30,
   "metadata": {},
   "outputs": [
    {
     "output_type": "stream",
     "name": "stdout",
     "text": [
      "[2, 4, 8, 16, 32, 64]\n"
     ]
    }
   ],
   "source": [
    "my_list = [ item for item in range(0, 100) if (item % 2) == 0 and (item & (item-1) == 0) and item != 0]\n",
    "print(my_list)"
   ]
  },
  {
   "source": [
    "3"
   ],
   "cell_type": "markdown",
   "metadata": {}
  },
  {
   "cell_type": "code",
   "execution_count": 43,
   "metadata": {},
   "outputs": [
    {
     "output_type": "stream",
     "name": "stdout",
     "text": [
      "[(1, 1, 1), (1, 1, 2), (1, 1, 3), (1, 2, 1), (1, 2, 2), (1, 2, 3), (1, 3, 1), (1, 3, 2), (1, 3, 3), (2, 1, 1), (2, 1, 2), (2, 1, 3), (2, 2, 1), (2, 2, 2), (2, 2, 3), (2, 3, 1), (2, 3, 2), (2, 3, 3), (3, 1, 1), (3, 1, 2), (3, 1, 3), (3, 2, 1), (3, 2, 2), (3, 2, 3), (3, 3, 1), (3, 3, 2), (3, 3, 3)]\n"
     ]
    }
   ],
   "source": [
    "out=[(i,j,k) for i in range(1, 4) for j in range(1, 4) for k in range(1, 4)]\n",
    "print(out)"
   ]
  },
  {
   "source": [
    "4"
   ],
   "cell_type": "markdown",
   "metadata": {}
  },
  {
   "cell_type": "code",
   "execution_count": 53,
   "metadata": {},
   "outputs": [
    {
     "output_type": "stream",
     "name": "stdout",
     "text": [
      "hlo_or\n"
     ]
    }
   ],
   "source": [
    "word = 'hElLo_WorLD'\n",
    "word=''.join(xter for xter in word if not xter.isupper())\n",
    "print(word)"
   ]
  },
  {
   "source": [
    "5"
   ],
   "cell_type": "markdown",
   "metadata": {}
  },
  {
   "cell_type": "code",
   "execution_count": 69,
   "metadata": {},
   "outputs": [
    {
     "output_type": "stream",
     "name": "stdout",
     "text": [
      "{1, 7}\n"
     ]
    }
   ],
   "source": [
    "print({1, 4, 8} ^ {4, 7, 8 })"
   ]
  },
  {
   "source": [
    "6"
   ],
   "cell_type": "markdown",
   "metadata": {}
  },
  {
   "cell_type": "code",
   "execution_count": 65,
   "metadata": {},
   "outputs": [
    {
     "output_type": "stream",
     "name": "stdout",
     "text": [
      "[['First', 'Line'], ['Second', 'Line']]\n"
     ]
    }
   ],
   "source": [
    "import re\n",
    "word = 'First Line \\n Second Line'\n",
    "word = [re.split('[\\s]',xter.strip()) for xter in re.split('[\\n]',word)]\n",
    "print(word)"
   ]
  },
  {
   "source": [
    "II"
   ],
   "cell_type": "markdown",
   "metadata": {}
  },
  {
   "cell_type": "code",
   "execution_count": 121,
   "metadata": {},
   "outputs": [
    {
     "output_type": "stream",
     "name": "stdout",
     "text": [
      "\n\n0 0 0 1 0 \n\n2 0 0 0 3 \n\n0 0 0 4 0 {(0, 0): 0, (0, 1): 0, (0, 2): 0, (0, 3): 1, (0, 4): 0, (1, 0): 2, (1, 1): 0, (1, 2): 0, (1, 3): 0, (1, 4): 3, (2, 0): 0, (2, 1): 0, (2, 2): 0, (2, 3): 4, (2, 4): 0}\n\n\n0 0 0 1 0 \n\n2 0 0 0 3 \n\n0 0 0 4 0 <bound method AttrDict.m_new of {(0, 0): 0, (0, 1): 0, (0, 2): 0, (0, 3): 1, (0, 4): 0, (1, 0): 2, (1, 1): 0, (1, 2): 0, (1, 3): 0, (1, 4): 3, (2, 0): 0, (2, 1): 0, (2, 2): 0, (2, 3): 4, (2, 4): 0}>\n"
     ]
    }
   ],
   "source": [
    "import numpy as np\n",
    "from scipy.sparse import csr_matrix\n",
    "\n",
    "\n",
    "matrix=[[0,0,0,1,0],\n",
    "        [2,0,0,0,3],\n",
    "        [0,0,0,4,0]]\n",
    "Dict={}\n",
    "for i in range(len(matrix)):\n",
    "    print(\"\\n\")\n",
    "    for j in range(len(matrix[i])):\n",
    "        print(matrix[i][j], end=' ')\n",
    "        Dict[i,j]=matrix[i][j]\n",
    "print(Dict)\n",
    "\n",
    "class AttrDict(dict):\n",
    "    def __init__(self, *args, **kwargs):\n",
    "        super().__init__(*args, **kwargs)\n",
    "        self.__dict__ = self\n",
    "\n",
    "    def m_new(self, key, value):\n",
    "        return ''\n",
    "\n",
    "\n",
    "Dict= AttrDict()\n",
    "for i in range(len(matrix)):\n",
    "    print(\"\\n\")\n",
    "    for j in range(len(matrix[i])):\n",
    "        print(matrix[i][j], end=' ')\n",
    "        Dict[i,j]=matrix[i][j]\n",
    "print(Dict.m_new)"
   ]
  },
  {
   "source": [
    "III"
   ],
   "cell_type": "markdown",
   "metadata": {}
  },
  {
   "cell_type": "code",
   "execution_count": 100,
   "metadata": {},
   "outputs": [
    {
     "output_type": "execute_result",
     "data": {
      "text/plain": [
       "{'a': 6,\n",
       " 'b': 1,\n",
       " 'c': 5,\n",
       " 'd': 0,\n",
       " 'e': 6,\n",
       " 'f': 1,\n",
       " 'g': 0,\n",
       " 'h': 5,\n",
       " 'i': 3,\n",
       " 'j': 0,\n",
       " 'k': 0,\n",
       " 'l': 1,\n",
       " 'm': 0,\n",
       " 'n': 2,\n",
       " 'o': 2,\n",
       " 'p': 1,\n",
       " 'q': 0,\n",
       " 'r': 3,\n",
       " 's': 2,\n",
       " 't': 6,\n",
       " 'v': 0,\n",
       " 'u': 0,\n",
       " 'w': 1,\n",
       " 'x': 1,\n",
       " 'z': 0,\n",
       " 'y': 1}"
      ]
     },
     "metadata": {},
     "execution_count": 100
    }
   ],
   "source": [
    "import sys\n",
    "\n",
    "def analyze_text(text):\n",
    "    alpha = \"abcdefghijklmnopqrstvuwxzy\"\n",
    "    filtered = [c.lower() for c in text if c.isalpha()]\n",
    "    dic = {}\n",
    "    for xter in alpha:\n",
    "        dic[xter] = filtered.count(xter)\n",
    "\n",
    "    return dic\n",
    "cmdWord = sys.argv[1]\n",
    "analyze_text(cmdWord)"
   ]
  },
  {
   "source": [
    "IV"
   ],
   "cell_type": "markdown",
   "metadata": {}
  },
  {
   "cell_type": "code",
   "execution_count": 111,
   "metadata": {},
   "outputs": [
    {
     "output_type": "execute_result",
     "data": {
      "text/plain": [
       "(7, 8, 78, 100)"
      ]
     },
     "metadata": {},
     "execution_count": 111
    }
   ],
   "source": [
    "def sort_tuple(t1, t2):\n",
    "    t1 = sorted(t1)\n",
    "    t2 = sorted(t2)\n",
    "    return tuple(sorted(set(t1)^set(t2))\n",
    "\n",
    "tup = (3, 6, 8, 2, 78, 1, 23, 45, 9)\n",
    "tup2 = (3, 6, 7, 2, 100, 1, 23, 45, 9)\n",
    "sort_tuple(tup, tup2)"
   ]
  },
  {
   "cell_type": "code",
   "execution_count": null,
   "metadata": {},
   "outputs": [],
   "source": []
  }
 ]
}